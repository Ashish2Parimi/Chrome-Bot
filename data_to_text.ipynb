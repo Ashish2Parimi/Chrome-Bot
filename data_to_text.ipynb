{
  "nbformat": 4,
  "nbformat_minor": 0,
  "metadata": {
    "colab": {
      "name": "Untitled3.ipynb",
      "provenance": [],
      "authorship_tag": "ABX9TyP+VFTR2mS1bG9jbMDtTgLa",
      "include_colab_link": true
    },
    "kernelspec": {
      "name": "python3",
      "display_name": "Python 3"
    },
    "language_info": {
      "name": "python"
    }
  },
  "cells": [
    {
      "cell_type": "markdown",
      "metadata": {
        "id": "view-in-github",
        "colab_type": "text"
      },
      "source": [
        "<a href=\"https://colab.research.google.com/github/Ashish2Parimi/Chrome-Bot/blob/master/data_to_text.ipynb\" target=\"_parent\"><img src=\"https://colab.research.google.com/assets/colab-badge.svg\" alt=\"Open In Colab\"/></a>"
      ]
    },
    {
      "cell_type": "code",
      "metadata": {
        "id": "m2gByrgWvuuj"
      },
      "source": [
        "import re\n",
        "import string\n",
        "import pandas as pd\n",
        "\n",
        "data = pd.read_csv('/content/train_telugu_news.csv')\n",
        "\n",
        "data = data.drop(['SNo','date','topic'],axis = 1)\n",
        "data.dropna(axis = 0,inplace = True)\n",
        "\n",
        "data = data.applymap(lambda x: '' if isinstance(x, int) or isinstance(x, float) else x)\n",
        "data['heading'] = data['heading'].str.replace('\\d+', '')\n",
        "\n",
        "data['body'] = data['body'].str.replace('\\d+', '')\n",
        "\n",
        "data = data.applymap(lambda x: '' if isinstance(x, int) or isinstance(x, float) else x)\n",
        "data['heading'] = data['heading'].str.replace('\\d+', '')\n",
        "\n",
        "data['body'] = data['body'].str.replace('\\d+', '')\n",
        "\n",
        "d = list(data['heading']+' '+data['body'])\n",
        "d = ' '.join(d)\n",
        "\n",
        "d = d.translate(str.maketrans(' ', ' ', string.punctuation))\n",
        "d = re.sub(' +', ' ', d)\n"
      ],
      "execution_count": 1,
      "outputs": []
    },
    {
      "cell_type": "code",
      "metadata": {
        "id": "-q22TixhwTO1"
      },
      "source": [
        "text_file = open(\"train.txt\", \"wt\")\n",
        "n = text_file.write(d)\n",
        "text_file.close()\n"
      ],
      "execution_count": 2,
      "outputs": []
    }
  ]
}